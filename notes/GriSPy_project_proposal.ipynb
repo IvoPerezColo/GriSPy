{
  "nbformat": 4,
  "nbformat_minor": 0,
  "metadata": {
    "kernelspec": {
      "display_name": "Python 3",
      "language": "python",
      "name": "python3"
    },
    "language_info": {
      "codemirror_mode": {
        "name": "ipython",
        "version": 3
      },
      "file_extension": ".py",
      "mimetype": "text/x-python",
      "name": "python",
      "nbconvert_exporter": "python",
      "pygments_lexer": "ipython3",
      "version": "3.7.3"
    },
    "colab": {
      "name": "estimation.ipynb",
      "version": "0.3.2",
      "provenance": [],
      "collapsed_sections": [],
      "toc_visible": true
    }
  },
  "cells": [
    {
      "cell_type": "markdown",
      "metadata": {
        "id": "WhgUVcAKDWkK",
        "colab_type": "text"
      },
      "source": [
        "# Project proposal\n",
        "\n",
        "\n",
        "\n",
        "##GriSPy - Grid Search in Python\n",
        "\n",
        "GriSPy is a regular grid search algorithm for quick nearest-neighbor lookup.\n",
        "\n",
        "This class indexes a set of k-dimensional points in a regular grid providing a fast aproach for nearest neighbors queries. Optional periodic boundary conditions can be provided for each axis individually.\n",
        "\n",
        "###GriSPy has the following queries implemented:\n",
        "\n",
        "> **`bubble_neighbors`**: find neighbors within a given radius. A different radius for each centre can be provided.\n",
        ">\n",
        "> **`shell_neighbors`**: find neighbors within given lower and upper radius. Different lower and upper radius can be provided for each centre.\n",
        ">\n",
        "> **`nearest_neighbors`**: find the nth nearest neighbors for each centre.\n",
        "\n",
        "###And the following methods are available:\n",
        "\n",
        "> **`set_periodicity`**: define the periodicity conditions.\n",
        ">\n",
        "> **`save_grid`**: save the grid for future use.\n",
        "\n",
        "## Use\n",
        "\n",
        "### Build the grid\n",
        "\n",
        "Build the grid with the **data**, the set of k-dimensional points where neighbors are sought:\n",
        "\n",
        "\n",
        "```python\n",
        "gsp = GriSPy(data, periodic=periodic)\n",
        "```\n",
        "\n",
        "**data** is a numpy array of shape (N, k)\n",
        "\n",
        "**periodic** (Optional) is a dictionary indicating if the data domain is periodic in some or all its dimensions.\n",
        "Example, periodic = { 0: (0, 360), 1: None}.\n",
        "\n",
        "The periodicity can be set when the grid is created or after.\n",
        "\n",
        "```python\n",
        "gsp = GriSPy(data)\n",
        "gsp.set_periodicity(periodic)\n",
        "```\n",
        "\n",
        "### Query for neighbors within upper_radii\n",
        "\n",
        "```python\n",
        "bubble_dist, bubble_ind = gsp.bubble_neighbors(centres, distance_upper_bound=upper_radii)\n",
        "``` \n",
        "\n",
        "### Query for neighbors in a shell within lower_radii and upper_radii\n",
        "\n",
        "```python\n",
        "shell_dist, shell_ind = gsp.shell_neighbors(centres,\n",
        " distance_lower_bound=lower_radii, \n",
        " distance_upper_bound=upper_radii)\n",
        "```\n",
        "\n",
        "### Query for nth nearest neighbors \n",
        "\n",
        "```python\n",
        "near_dist, near_ind = gsp.nearest_neighbors(centres, n=n_nearest)\n",
        "```\n",
        "\n",
        "### Inputs\n",
        "\n",
        "**centres** is a numpy array of M centres with same dimesion that **data**\n",
        "\n",
        "**lower_radii** and **upper_radii** are integers if the search radii are the same for all centers or array_like with M different radii\n",
        "\n",
        "**n_nearest** is an integer\n",
        "\n",
        "### Outputs\n",
        "All these methods return the distance (**_dist**) of each neighbor to their respective center, and the position or index (**_ind**) of each neighbor within the **data** array."
      ]
    },
    {
      "cell_type": "markdown",
      "metadata": {
        "id": "sb2JOtESDWkR",
        "colab_type": "text"
      },
      "source": [
        "# Estimation"
      ]
    },
    {
      "cell_type": "code",
      "metadata": {
        "id": "s8nHrvQGDWkV",
        "colab_type": "code",
        "outputId": "3ab1f1a2-80f7-42c3-bb8c-1f856cd42fad",
        "colab": {
          "base_uri": "https://localhost:8080/",
          "height": 340
        }
      },
      "source": [
        "import numpy as np\n",
        "import pert"
      ],
      "execution_count": 0,
      "outputs": [
        {
          "output_type": "error",
          "ename": "ModuleNotFoundError",
          "evalue": "ignored",
          "traceback": [
            "\u001b[0;31m---------------------------------------------------------------------------\u001b[0m",
            "\u001b[0;31mModuleNotFoundError\u001b[0m                       Traceback (most recent call last)",
            "\u001b[0;32m<ipython-input-1-482c268281c1>\u001b[0m in \u001b[0;36m<module>\u001b[0;34m()\u001b[0m\n\u001b[1;32m      1\u001b[0m \u001b[0;32mimport\u001b[0m \u001b[0mnumpy\u001b[0m \u001b[0;32mas\u001b[0m \u001b[0mnp\u001b[0m\u001b[0;34m\u001b[0m\u001b[0;34m\u001b[0m\u001b[0m\n\u001b[0;32m----> 2\u001b[0;31m \u001b[0;32mimport\u001b[0m \u001b[0mpert\u001b[0m\u001b[0;34m\u001b[0m\u001b[0;34m\u001b[0m\u001b[0m\n\u001b[0m",
            "\u001b[0;31mModuleNotFoundError\u001b[0m: No module named 'pert'",
            "",
            "\u001b[0;31m---------------------------------------------------------------------------\u001b[0;32m\nNOTE: If your import is failing due to a missing package, you can\nmanually install dependencies using either !pip or !apt.\n\nTo view examples of installing some common dependencies, click the\n\"Open Examples\" button below.\n\u001b[0;31m---------------------------------------------------------------------------\u001b[0m\n"
          ]
        }
      ]
    },
    {
      "cell_type": "markdown",
      "metadata": {
        "id": "Ylw50zDbDWkm",
        "colab_type": "text"
      },
      "source": [
        "Task dictionary, every key is a task and every body is a tuple with the `(o, p, m)`\n",
        "\n",
        "Where:\n",
        "\n",
        "- optimistic time (O): the minimum possible time required to accomplish a\n",
        "  task, assuming everything proceeds better than is normally expected\n",
        "- pessimistic time (P): the maximum possible time required to accomplish a\n",
        "  task, assuming everything goes wrong (but excluding major catastrophes).\n",
        "- most likely time (M): the best estimate of the time required to\n",
        "  accomplish a task, assuming everything proceeds as normal."
      ]
    },
    {
      "cell_type": "markdown",
      "metadata": {
        "id": "Fp7z5DAzDWkr",
        "colab_type": "text"
      },
      "source": [
        "All times are expresed in **hours**"
      ]
    },
    {
      "cell_type": "code",
      "metadata": {
        "id": "ZYqFaiHfDWkv",
        "colab_type": "code",
        "colab": {}
      },
      "source": [
        "fee = 200\n",
        "\n",
        "tasks = {\n",
        "    \"Reescritura 2.7 -> 3.7\": (10., 20., 15.),\n",
        "    \"Documentación\": (5., 10., 8.),\n",
        "    \"Testing\": (30., 60., 50.),\n",
        "}"
      ],
      "execution_count": 0,
      "outputs": []
    },
    {
      "cell_type": "markdown",
      "metadata": {
        "id": "f4YHk8m9DWk4",
        "colab_type": "text"
      },
      "source": [
        "### Expected time by taks"
      ]
    },
    {
      "cell_type": "markdown",
      "metadata": {
        "id": "Hjn6d_llDWk7",
        "colab_type": "text"
      },
      "source": [
        "the best estimate of the time required to accomplish a\n",
        "task, accounting for the fact that things don't always proceed as normal\n",
        "(the implication being that the expected time is the average time the\n",
        "task would require if the task were repeated on a number of occasions over\n",
        "an extended period of time).\n",
        "\n",
        "```\n",
        "TE = (O + 4M + P) / 6\n",
        "```"
      ]
    },
    {
      "cell_type": "code",
      "metadata": {
        "id": "JbFMgeqCDWk_",
        "colab_type": "code",
        "outputId": "b7614c74-3b9f-450e-8167-89100da320d9",
        "colab": {
          "base_uri": "https://localhost:8080/",
          "height": 193
        }
      },
      "source": [
        "for k, v in tasks.items():\n",
        "    print(k.rjust(30), \"-\", \"%.2f hs\" % pert.expect(*v))"
      ],
      "execution_count": 0,
      "outputs": [
        {
          "output_type": "error",
          "ename": "NameError",
          "evalue": "ignored",
          "traceback": [
            "\u001b[0;31m---------------------------------------------------------------------------\u001b[0m",
            "\u001b[0;31mNameError\u001b[0m                                 Traceback (most recent call last)",
            "\u001b[0;32m<ipython-input-3-45d16586609d>\u001b[0m in \u001b[0;36m<module>\u001b[0;34m()\u001b[0m\n\u001b[1;32m      1\u001b[0m \u001b[0;32mfor\u001b[0m \u001b[0mk\u001b[0m\u001b[0;34m,\u001b[0m \u001b[0mv\u001b[0m \u001b[0;32min\u001b[0m \u001b[0mtasks\u001b[0m\u001b[0;34m.\u001b[0m\u001b[0mitems\u001b[0m\u001b[0;34m(\u001b[0m\u001b[0;34m)\u001b[0m\u001b[0;34m:\u001b[0m\u001b[0;34m\u001b[0m\u001b[0;34m\u001b[0m\u001b[0m\n\u001b[0;32m----> 2\u001b[0;31m     \u001b[0mprint\u001b[0m\u001b[0;34m(\u001b[0m\u001b[0mk\u001b[0m\u001b[0;34m.\u001b[0m\u001b[0mrjust\u001b[0m\u001b[0;34m(\u001b[0m\u001b[0;36m30\u001b[0m\u001b[0;34m)\u001b[0m\u001b[0;34m,\u001b[0m \u001b[0;34m\"-\"\u001b[0m\u001b[0;34m,\u001b[0m \u001b[0;34m\"%.2f hs\"\u001b[0m \u001b[0;34m%\u001b[0m \u001b[0mpert\u001b[0m\u001b[0;34m.\u001b[0m\u001b[0mexpect\u001b[0m\u001b[0;34m(\u001b[0m\u001b[0;34m*\u001b[0m\u001b[0mv\u001b[0m\u001b[0;34m)\u001b[0m\u001b[0;34m)\u001b[0m\u001b[0;34m\u001b[0m\u001b[0;34m\u001b[0m\u001b[0m\n\u001b[0m",
            "\u001b[0;31mNameError\u001b[0m: name 'pert' is not defined"
          ]
        }
      ]
    },
    {
      "cell_type": "markdown",
      "metadata": {
        "id": "I7UYKg5vDWlJ",
        "colab_type": "text"
      },
      "source": [
        "### Global Estimation\n",
        "\n",
        "Create a estimation for a set of values. This return three range of values with probablilities of 68.2%, 95.4%, 99.7%"
      ]
    },
    {
      "cell_type": "code",
      "metadata": {
        "id": "hc3kmSC-DWlP",
        "colab_type": "code",
        "colab": {}
      },
      "source": [
        "optimists = [v[0] for v in tasks.values()]\n",
        "pesimists = [v[1] for v in tasks.values()]\n",
        "most_likely = [v[2] for v in tasks.values()]"
      ],
      "execution_count": 0,
      "outputs": []
    },
    {
      "cell_type": "code",
      "metadata": {
        "id": "UHHBvbGJDWlX",
        "colab_type": "code",
        "colab": {}
      },
      "source": [
        "probs = pert.estimate(optimists, pesimists, most_likely)\n",
        "\n",
        "print(\n",
        "    \"With {0}% of probability the project will be ended in between {1:.2f} and {2:.2f} hours\".format(\"68.2\", *probs[0]))\n",
        "print(\n",
        "    \"With {0}% of probability the project will be ended in between {1:.2f} and {2:.2f} hours\".format(\"95.4\", *probs[1]))\n",
        "print(\n",
        "    \"With {0}% of probability the project will be ended in between {1:.2f} and {2:.2f} hours\".format(\"99.7\", *probs[2]))"
      ],
      "execution_count": 0,
      "outputs": []
    },
    {
      "cell_type": "markdown",
      "metadata": {
        "id": "27FUROkRDWln",
        "colab_type": "text"
      },
      "source": [
        "### Conclusion"
      ]
    },
    {
      "cell_type": "code",
      "metadata": {
        "id": "1uzyI9XdDWlq",
        "colab_type": "code",
        "colab": {}
      },
      "source": [
        "limits = (probs[0][0], probs[2][1])\n",
        "costs = (probs[0][0] * fee, probs[2][1] * fee)\n",
        "print(\n",
        "    \"The project will be made in a range between of {0:.2f} (worst best) and {1:.2f} (best worst) hours\".format(*limits))\n",
        "print(\"In money the project will cost in between {0:.2f} usd and {1:.2f} usd\".format(*costs))"
      ],
      "execution_count": 0,
      "outputs": []
    },
    {
      "cell_type": "code",
      "metadata": {
        "id": "qJwXiIZ9DWlz",
        "colab_type": "code",
        "colab": {}
      },
      "source": [
        "import datetime; datetime.datetime.now().isoformat()"
      ],
      "execution_count": 0,
      "outputs": []
    },
    {
      "cell_type": "markdown",
      "metadata": {
        "collapsed": true,
        "id": "qBBYZ9ycDWl7",
        "colab_type": "text"
      },
      "source": [
        "#An estimation is not a deadline"
      ]
    }
  ]
}